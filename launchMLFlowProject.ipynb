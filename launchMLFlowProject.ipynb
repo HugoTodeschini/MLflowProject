{
 "cells": [
  {
   "cell_type": "code",
   "execution_count": 1,
   "metadata": {},
   "outputs": [],
   "source": [
    "import mlflow"
   ]
  },
  {
   "cell_type": "code",
   "execution_count": 3,
   "metadata": {},
   "outputs": [
    {
     "name": "stderr",
     "output_type": "stream",
     "text": [
      "2019/11/21 22:38:54 INFO mlflow.projects: === Fetching project from https://github.com/HugoTodeschini/MLflowProject.git into C:\\Users\\Hugo\\AppData\\Local\\Temp\\tmp4a9d4y65 ===\n",
      "2019/11/21 22:39:08 INFO mlflow.projects: === Creating conda environment mlflow-da39a3ee5e6b4b0d3255bfef95601890afd80709 ===\n",
      "2019/11/21 22:40:50 INFO mlflow.projects: === Created directory C:\\Users\\Hugo\\AppData\\Local\\Temp\\tmpuq44p0d3 for downloading remote URIs passed to arguments of type 'path' ===\n",
      "2019/11/21 22:40:50 INFO mlflow.projects: === Running command 'conda activate mlflow-da39a3ee5e6b4b0d3255bfef95601890afd80709 && python titanicModel.py' in run with ID '19c650511cdc4688aaab305527ce3f92' === \n"
     ]
    },
    {
     "ename": "ExecutionException",
     "evalue": "Run (ID '19c650511cdc4688aaab305527ce3f92') failed",
     "output_type": "error",
     "traceback": [
      "\u001b[1;31m---------------------------------------------------------------------------\u001b[0m",
      "\u001b[1;31mExecutionException\u001b[0m                        Traceback (most recent call last)",
      "\u001b[1;32m<ipython-input-3-25ad087cb916>\u001b[0m in \u001b[0;36m<module>\u001b[1;34m\u001b[0m\n\u001b[1;32m----> 1\u001b[1;33m \u001b[0mmlflow\u001b[0m\u001b[1;33m.\u001b[0m\u001b[0mprojects\u001b[0m\u001b[1;33m.\u001b[0m\u001b[0mrun\u001b[0m\u001b[1;33m(\u001b[0m\u001b[1;34m'https://github.com/HugoTodeschini/MLflowProject.git'\u001b[0m\u001b[1;33m,\u001b[0m \u001b[0mentry_point\u001b[0m\u001b[1;33m=\u001b[0m\u001b[1;34m'titanicModel.py'\u001b[0m\u001b[1;33m)\u001b[0m\u001b[1;33m\u001b[0m\u001b[1;33m\u001b[0m\u001b[0m\n\u001b[0m",
      "\u001b[1;32m~\\Anaconda3\\lib\\site-packages\\mlflow\\projects\\__init__.py\u001b[0m in \u001b[0;36mrun\u001b[1;34m(uri, entry_point, version, parameters, experiment_name, experiment_id, backend, backend_config, use_conda, storage_dir, synchronous, run_id)\u001b[0m\n\u001b[0;32m    285\u001b[0m         use_conda=use_conda, storage_dir=storage_dir, synchronous=synchronous, run_id=run_id)\n\u001b[0;32m    286\u001b[0m     \u001b[1;32mif\u001b[0m \u001b[0msynchronous\u001b[0m\u001b[1;33m:\u001b[0m\u001b[1;33m\u001b[0m\u001b[1;33m\u001b[0m\u001b[0m\n\u001b[1;32m--> 287\u001b[1;33m         \u001b[0m_wait_for\u001b[0m\u001b[1;33m(\u001b[0m\u001b[0msubmitted_run_obj\u001b[0m\u001b[1;33m)\u001b[0m\u001b[1;33m\u001b[0m\u001b[1;33m\u001b[0m\u001b[0m\n\u001b[0m\u001b[0;32m    288\u001b[0m     \u001b[1;32mreturn\u001b[0m \u001b[0msubmitted_run_obj\u001b[0m\u001b[1;33m\u001b[0m\u001b[1;33m\u001b[0m\u001b[0m\n\u001b[0;32m    289\u001b[0m \u001b[1;33m\u001b[0m\u001b[0m\n",
      "\u001b[1;32m~\\Anaconda3\\lib\\site-packages\\mlflow\\projects\\__init__.py\u001b[0m in \u001b[0;36m_wait_for\u001b[1;34m(submitted_run_obj)\u001b[0m\n\u001b[0;32m    302\u001b[0m         \u001b[1;32melse\u001b[0m\u001b[1;33m:\u001b[0m\u001b[1;33m\u001b[0m\u001b[1;33m\u001b[0m\u001b[0m\n\u001b[0;32m    303\u001b[0m             \u001b[0m_maybe_set_run_terminated\u001b[0m\u001b[1;33m(\u001b[0m\u001b[0mactive_run\u001b[0m\u001b[1;33m,\u001b[0m \u001b[1;34m\"FAILED\"\u001b[0m\u001b[1;33m)\u001b[0m\u001b[1;33m\u001b[0m\u001b[1;33m\u001b[0m\u001b[0m\n\u001b[1;32m--> 304\u001b[1;33m             \u001b[1;32mraise\u001b[0m \u001b[0mExecutionException\u001b[0m\u001b[1;33m(\u001b[0m\u001b[1;34m\"Run (ID '%s') failed\"\u001b[0m \u001b[1;33m%\u001b[0m \u001b[0mrun_id\u001b[0m\u001b[1;33m)\u001b[0m\u001b[1;33m\u001b[0m\u001b[1;33m\u001b[0m\u001b[0m\n\u001b[0m\u001b[0;32m    305\u001b[0m     \u001b[1;32mexcept\u001b[0m \u001b[0mKeyboardInterrupt\u001b[0m\u001b[1;33m:\u001b[0m\u001b[1;33m\u001b[0m\u001b[1;33m\u001b[0m\u001b[0m\n\u001b[0;32m    306\u001b[0m         \u001b[0m_logger\u001b[0m\u001b[1;33m.\u001b[0m\u001b[0merror\u001b[0m\u001b[1;33m(\u001b[0m\u001b[1;34m\"=== Run (ID '%s') interrupted, cancelling run ===\"\u001b[0m\u001b[1;33m,\u001b[0m \u001b[0mrun_id\u001b[0m\u001b[1;33m)\u001b[0m\u001b[1;33m\u001b[0m\u001b[1;33m\u001b[0m\u001b[0m\n",
      "\u001b[1;31mExecutionException\u001b[0m: Run (ID '19c650511cdc4688aaab305527ce3f92') failed"
     ]
    }
   ],
   "source": [
    "mlflow.projects.run('https://github.com/HugoTodeschini/MLflowProject.git', entry_point='titanicModel.py')"
   ]
  }
 ],
 "metadata": {
  "kernelspec": {
   "display_name": "Python 3",
   "language": "python",
   "name": "python3"
  },
  "language_info": {
   "codemirror_mode": {
    "name": "ipython",
    "version": 3
   },
   "file_extension": ".py",
   "mimetype": "text/x-python",
   "name": "python",
   "nbconvert_exporter": "python",
   "pygments_lexer": "ipython3",
   "version": "3.6.7"
  }
 },
 "nbformat": 4,
 "nbformat_minor": 2
}
