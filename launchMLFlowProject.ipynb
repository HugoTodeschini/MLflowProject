{
 "cells": [
  {
   "cell_type": "code",
   "execution_count": 1,
   "metadata": {},
   "outputs": [],
   "source": [
    "import mlflow"
   ]
  },
  {
   "cell_type": "code",
   "execution_count": 6,
   "metadata": {},
   "outputs": [
    {
     "name": "stderr",
     "output_type": "stream",
     "text": [
      "2019/11/21 23:00:06 INFO mlflow.projects: === Fetching project from https://github.com/HugoTodeschini/MLflowProject.git into C:\\Users\\Hugo\\AppData\\Local\\Temp\\tmpd6a8bw64 ===\n"
     ]
    },
    {
     "ename": "ExecutionException",
     "evalue": "Could not find PythonProject among entry points [] or interpret PythonProject as a runnable script. Supported script file extensions: ['.py', '.sh']",
     "output_type": "error",
     "traceback": [
      "\u001b[1;31m---------------------------------------------------------------------------\u001b[0m",
      "\u001b[1;31mExecutionException\u001b[0m                        Traceback (most recent call last)",
      "\u001b[1;32m<ipython-input-6-4da405658947>\u001b[0m in \u001b[0;36m<module>\u001b[1;34m\u001b[0m\n\u001b[0;32m      1\u001b[0m \u001b[1;31m#mlflow.projects.run('https://github.com/HugoTodeschini/MLflowProject.git', entry_point='titanicModel.py')\u001b[0m\u001b[1;33m\u001b[0m\u001b[1;33m\u001b[0m\u001b[1;33m\u001b[0m\u001b[0m\n\u001b[1;32m----> 2\u001b[1;33m \u001b[0mmlflow\u001b[0m\u001b[1;33m.\u001b[0m\u001b[0mprojects\u001b[0m\u001b[1;33m.\u001b[0m\u001b[0mrun\u001b[0m\u001b[1;33m(\u001b[0m\u001b[1;34m'https://github.com/HugoTodeschini/MLflowProject.git'\u001b[0m\u001b[1;33m,\u001b[0m \u001b[0mentry_point\u001b[0m\u001b[1;33m=\u001b[0m\u001b[1;34m'PythonProject'\u001b[0m\u001b[1;33m)\u001b[0m\u001b[1;33m\u001b[0m\u001b[1;33m\u001b[0m\u001b[0m\n\u001b[0m",
      "\u001b[1;32m~\\Anaconda3\\lib\\site-packages\\mlflow\\projects\\__init__.py\u001b[0m in \u001b[0;36mrun\u001b[1;34m(uri, entry_point, version, parameters, experiment_name, experiment_id, backend, backend_config, use_conda, storage_dir, synchronous, run_id)\u001b[0m\n\u001b[0;32m    283\u001b[0m         \u001b[0muri\u001b[0m\u001b[1;33m=\u001b[0m\u001b[0muri\u001b[0m\u001b[1;33m,\u001b[0m \u001b[0mexperiment_id\u001b[0m\u001b[1;33m=\u001b[0m\u001b[0mexperiment_id\u001b[0m\u001b[1;33m,\u001b[0m \u001b[0mentry_point\u001b[0m\u001b[1;33m=\u001b[0m\u001b[0mentry_point\u001b[0m\u001b[1;33m,\u001b[0m \u001b[0mversion\u001b[0m\u001b[1;33m=\u001b[0m\u001b[0mversion\u001b[0m\u001b[1;33m,\u001b[0m\u001b[1;33m\u001b[0m\u001b[1;33m\u001b[0m\u001b[0m\n\u001b[0;32m    284\u001b[0m         \u001b[0mparameters\u001b[0m\u001b[1;33m=\u001b[0m\u001b[0mparameters\u001b[0m\u001b[1;33m,\u001b[0m \u001b[0mbackend\u001b[0m\u001b[1;33m=\u001b[0m\u001b[0mbackend\u001b[0m\u001b[1;33m,\u001b[0m \u001b[0mbackend_config\u001b[0m\u001b[1;33m=\u001b[0m\u001b[0mcluster_spec_dict\u001b[0m\u001b[1;33m,\u001b[0m\u001b[1;33m\u001b[0m\u001b[1;33m\u001b[0m\u001b[0m\n\u001b[1;32m--> 285\u001b[1;33m         use_conda=use_conda, storage_dir=storage_dir, synchronous=synchronous, run_id=run_id)\n\u001b[0m\u001b[0;32m    286\u001b[0m     \u001b[1;32mif\u001b[0m \u001b[0msynchronous\u001b[0m\u001b[1;33m:\u001b[0m\u001b[1;33m\u001b[0m\u001b[1;33m\u001b[0m\u001b[0m\n\u001b[0;32m    287\u001b[0m         \u001b[0m_wait_for\u001b[0m\u001b[1;33m(\u001b[0m\u001b[0msubmitted_run_obj\u001b[0m\u001b[1;33m)\u001b[0m\u001b[1;33m\u001b[0m\u001b[1;33m\u001b[0m\u001b[0m\n",
      "\u001b[1;32m~\\Anaconda3\\lib\\site-packages\\mlflow\\projects\\__init__.py\u001b[0m in \u001b[0;36m_run\u001b[1;34m(uri, experiment_id, entry_point, version, parameters, backend, backend_config, use_conda, storage_dir, synchronous, run_id)\u001b[0m\n\u001b[0;32m    105\u001b[0m     \u001b[0mproject\u001b[0m \u001b[1;33m=\u001b[0m \u001b[0m_project_spec\u001b[0m\u001b[1;33m.\u001b[0m\u001b[0mload_project\u001b[0m\u001b[1;33m(\u001b[0m\u001b[0mwork_dir\u001b[0m\u001b[1;33m)\u001b[0m\u001b[1;33m\u001b[0m\u001b[1;33m\u001b[0m\u001b[0m\n\u001b[0;32m    106\u001b[0m     \u001b[0m_validate_execution_environment\u001b[0m\u001b[1;33m(\u001b[0m\u001b[0mproject\u001b[0m\u001b[1;33m,\u001b[0m \u001b[0mbackend\u001b[0m\u001b[1;33m)\u001b[0m\u001b[1;33m\u001b[0m\u001b[1;33m\u001b[0m\u001b[0m\n\u001b[1;32m--> 107\u001b[1;33m     \u001b[0mproject\u001b[0m\u001b[1;33m.\u001b[0m\u001b[0mget_entry_point\u001b[0m\u001b[1;33m(\u001b[0m\u001b[0mentry_point\u001b[0m\u001b[1;33m)\u001b[0m\u001b[1;33m.\u001b[0m\u001b[0m_validate_parameters\u001b[0m\u001b[1;33m(\u001b[0m\u001b[0mparameters\u001b[0m\u001b[1;33m)\u001b[0m\u001b[1;33m\u001b[0m\u001b[1;33m\u001b[0m\u001b[0m\n\u001b[0m\u001b[0;32m    108\u001b[0m     \u001b[1;32mif\u001b[0m \u001b[0mrun_id\u001b[0m\u001b[1;33m:\u001b[0m\u001b[1;33m\u001b[0m\u001b[1;33m\u001b[0m\u001b[0m\n\u001b[0;32m    109\u001b[0m         \u001b[0mactive_run\u001b[0m \u001b[1;33m=\u001b[0m \u001b[0mtracking\u001b[0m\u001b[1;33m.\u001b[0m\u001b[0mMlflowClient\u001b[0m\u001b[1;33m(\u001b[0m\u001b[1;33m)\u001b[0m\u001b[1;33m.\u001b[0m\u001b[0mget_run\u001b[0m\u001b[1;33m(\u001b[0m\u001b[0mrun_id\u001b[0m\u001b[1;33m)\u001b[0m\u001b[1;33m\u001b[0m\u001b[1;33m\u001b[0m\u001b[0m\n",
      "\u001b[1;32m~\\Anaconda3\\lib\\site-packages\\mlflow\\projects\\_project_spec.py\u001b[0m in \u001b[0;36mget_entry_point\u001b[1;34m(self, entry_point)\u001b[0m\n\u001b[0;32m     95\u001b[0m                                  \u001b[1;34m\"runnable script. Supported script file extensions: \"\u001b[0m\u001b[1;33m\u001b[0m\u001b[1;33m\u001b[0m\u001b[0m\n\u001b[0;32m     96\u001b[0m                                  \"{2}\".format(entry_point, list(self._entry_points.keys()),\n\u001b[1;32m---> 97\u001b[1;33m                                               list(ext_to_cmd.keys())))\n\u001b[0m\u001b[0;32m     98\u001b[0m \u001b[1;33m\u001b[0m\u001b[0m\n\u001b[0;32m     99\u001b[0m \u001b[1;33m\u001b[0m\u001b[0m\n",
      "\u001b[1;31mExecutionException\u001b[0m: Could not find PythonProject among entry points [] or interpret PythonProject as a runnable script. Supported script file extensions: ['.py', '.sh']"
     ]
    }
   ],
   "source": [
    "#mlflow.projects.run('https://github.com/HugoTodeschini/MLflowProject.git', entry_point='titanicModel.py')\n",
    "mlflow.projects.run('https://github.com/HugoTodeschini/MLflowProject.git', entry_point='PythonProject.py')\n"
   ]
  }
 ],
 "metadata": {
  "kernelspec": {
   "display_name": "Python 3",
   "language": "python",
   "name": "python3"
  },
  "language_info": {
   "codemirror_mode": {
    "name": "ipython",
    "version": 3
   },
   "file_extension": ".py",
   "mimetype": "text/x-python",
   "name": "python",
   "nbconvert_exporter": "python",
   "pygments_lexer": "ipython3",
   "version": "3.6.7"
  }
 },
 "nbformat": 4,
 "nbformat_minor": 2
}
